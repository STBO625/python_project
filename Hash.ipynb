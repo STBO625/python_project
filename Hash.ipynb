{
 "cells": [
  {
   "cell_type": "code",
   "execution_count": null,
   "metadata": {},
   "outputs": [],
   "source": [
    "import hashlib\n",
    "\n",
    "def calculate_sha256_hash(input_string):\n",
    "    \"\"\"\n",
    "    Calculates the SHA-256 hash value of the input string.\n",
    "    \"\"\"\n",
    "    sha256_hash = hashlib.sha256(input_string.encode()).hexdigest()\n",
    "    return sha256_hash\n",
    "\n",
    "def main():\n",
    "    input_string = input(\"Enter a string to hash: \")\n",
    "    hash_value = calculate_sha256_hash(input_string)\n",
    "    print(\"SHA-256 Hash value of '{}' is: {}\".format(input_string, hash_value))\n",
    "\n",
    "if __name__ == \"__main__\":\n",
    "    main()"
   ]
  }
 ],
 "metadata": {
  "language_info": {
   "name": "python"
  }
 },
 "nbformat": 4,
 "nbformat_minor": 2
}
