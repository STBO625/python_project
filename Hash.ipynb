{
 "cells": [
  {
   "cell_type": "code",
   "execution_count": null,
   "metadata": {},
   "outputs": [],
   "source": [
    "import hashlib\n",
    "\n",
    "def calculate_hash(input_string):\n",
    "    \"\"\"\n",
    "    Function to calculate the SHA-256 hash value of a given input string.\n",
    "    \"\"\"\n",
    "    # Convert the input string to bytes\n",
    "    input_bytes = input_string.encode('utf-8')\n",
    "\n",
    "    # Calculate the SHA-256 hash value\n",
    "    hash_object = hashlib.sha256()\n",
    "    hash_object.update(input_bytes)\n",
    "    hash_value = hash_object.hexdigest()\n",
    "\n",
    "    return hash_value\n",
    "\n",
    "def main():\n",
    "    # Test the program with different inputs\n",
    "    inputs = [\n",
    "        \"Hello, world!\",\n",
    "        \"Python is awesome.\",\n",
    "        \"Hashing is fun!\",\n",
    "        \"OpenAI ChatGPT\",\n",
    "        \"1234567890\",\n",
    "    ]\n",
    "\n",
    "    # Calculate and print the hash value for each input\n",
    "    for input_string in inputs:\n",
    "        hash_value = calculate_hash(input_string)\n",
    "        print(f\"Input: {input_string}\")\n",
    "        print(f\"SHA-256 Hash Value: {hash_value}\")\n",
    "        print()\n",
    "\n",
    "if __name__ == \"__main__\":\n",
    "    main()"
   ]
  }
 ],
 "metadata": {
  "language_info": {
   "name": "python"
  }
 },
 "nbformat": 4,
 "nbformat_minor": 2
}
